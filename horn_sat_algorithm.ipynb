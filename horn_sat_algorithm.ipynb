{
 "cells": [
  {
   "cell_type": "code",
   "execution_count": 33,
   "metadata": {},
   "outputs": [],
   "source": [
    "C1 = {'positive': 'P5', 'negative': ['P1', 'P2', 'P3']} # This means C1 = not(P1) OR not(P2) OR not(P3) OR P5\n",
    "C2 = {'positive': 'P6', 'negative': []}\n",
    "C3 = {'positive': 'P1', 'negative': ['P4', 'P6']}\n",
    "C4 = {'positive': 'P4', 'negative': ['P6']}\n",
    "C5 = {'positive': 'P2', 'negative': ['P1', 'P6']}\n",
    "C6 = {'positive': None, 'negative': ['P5']}\n",
    "C7 = {'positive': 'P3', 'negative': ['P5', 'P6']}\n",
    "C8 = {'positive': None, 'negative': ['P4', 'P6']}\n",
    "\n",
    "F = {'n': 6, 'list_of_clauses': [C1, C2, C3, C4, C5, C6, C7]}\n",
    "F_ = {'n': 6, 'list_of_clauses': [C1, C2, C3, C4, C5, C6, C7, C8]}"
   ]
  },
  {
   "cell_type": "code",
   "execution_count": 34,
   "metadata": {},
   "outputs": [],
   "source": [
    "def horn(F):\n",
    "    n = F['n']\n",
    "    dict_P = {}\n",
    "    # Initializing all Pi = 0 and SAT = 1\n",
    "    for i in range(1, n+1):\n",
    "        dict_P['P' + str(i)] = 0\n",
    "    sat = 1\n",
    "\n",
    "    list_of_clauses = F['list_of_clauses']\n",
    "\n",
    "\n",
    "    while evaluate_formula(F, dict_P) == 0:\n",
    "        # Picking an unsatisfied clause\n",
    "        for clause in list_of_clauses:\n",
    "            if evaluate_clause(clause, dict_P) == 0:\n",
    "                picked_clause = clause\n",
    "                break\n",
    "\n",
    "        # Checking whether Q is a variable or not\n",
    "        if picked_clause['positive'] is not None:\n",
    "            # This means that it's a variable\n",
    "            dict_P[picked_clause['positive']] = 1\n",
    "        else:\n",
    "            # This means that it's not a variable (i.e. == 0)  \n",
    "            sat = 0\n",
    "            break\n",
    "        \n",
    "    return {'SAT': 1, 'P': dict_P} if sat == 1 else {'SAT': 0}\n",
    "    \n",
    "  \n",
    "\n",
    "def evaluate_formula(F, dict_of_Ps):\n",
    "    clauses = F['list_of_clauses']\n",
    "    res = 1\n",
    "    for c in clauses:\n",
    "        res = res and evaluate_clause(c, dict_of_Ps)\n",
    "\n",
    "    return res\n",
    "\n",
    "    \n",
    "def evaluate_clause(C, dict_of_Ps):\n",
    "    res = 0\n",
    "    for P_i in C['negative']:\n",
    "        P_i_value = dict_of_Ps[P_i]\n",
    "        res = res or not(P_i_value)\n",
    "\n",
    "    if C['positive'] is not None:\n",
    "        res = res or dict_of_Ps[C['positive']]\n",
    "\n",
    "    return res\n",
    "\n"
   ]
  },
  {
   "cell_type": "code",
   "execution_count": 35,
   "metadata": {},
   "outputs": [
    {
     "data": {
      "text/plain": [
       "{'SAT': 0}"
      ]
     },
     "execution_count": 35,
     "metadata": {},
     "output_type": "execute_result"
    }
   ],
   "source": [
    "horn(F_)"
   ]
  },
  {
   "cell_type": "code",
   "execution_count": 36,
   "metadata": {},
   "outputs": [
    {
     "data": {
      "text/plain": [
       "{'SAT': 1, 'P': {'P1': 1, 'P2': 1, 'P3': 0, 'P4': 1, 'P5': 0, 'P6': 1}}"
      ]
     },
     "execution_count": 36,
     "metadata": {},
     "output_type": "execute_result"
    }
   ],
   "source": [
    "horn(F)"
   ]
  },
  {
   "cell_type": "code",
   "execution_count": null,
   "metadata": {},
   "outputs": [],
   "source": []
  }
 ],
 "metadata": {
  "kernelspec": {
   "display_name": "ilyascoding",
   "language": "python",
   "name": "python3"
  },
  "language_info": {
   "codemirror_mode": {
    "name": "ipython",
    "version": 3
   },
   "file_extension": ".py",
   "mimetype": "text/x-python",
   "name": "python",
   "nbconvert_exporter": "python",
   "pygments_lexer": "ipython3",
   "version": "3.10.4"
  }
 },
 "nbformat": 4,
 "nbformat_minor": 2
}
