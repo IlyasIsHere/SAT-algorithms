{
 "cells": [
  {
   "cell_type": "code",
   "execution_count": 37,
   "metadata": {},
   "outputs": [],
   "source": [
    "C1 = {1, -2}\n",
    "C2 = {2, 3}\n",
    "C3 = {-1, -2, 3}\n",
    "C4 = {-3}\n",
    "F = [C1, C2, C3, C4]"
   ]
  },
  {
   "cell_type": "code",
   "execution_count": 38,
   "metadata": {},
   "outputs": [],
   "source": [
    "# This method returns a new resolvent R of two different clauses in x. If no one is found, returns -1\n",
    "def resolve(x):\n",
    "    for i in range(len(x)):\n",
    "        for j in range(i+1, len(x)):\n",
    "            if (i != j):\n",
    "                c1, c2 = x[i], x[j]\n",
    "                \n",
    "                for l1 in c1:\n",
    "                    if -l1 in c2:\n",
    "                        R = c1.union(c2)\n",
    "                        R.remove(l1)\n",
    "                        R.remove(-l1)\n",
    "                        if R not in x:\n",
    "                            return R\n",
    "    return -1                  "
   ]
  },
  {
   "cell_type": "code",
   "execution_count": 39,
   "metadata": {},
   "outputs": [],
   "source": [
    "def is_satisfiable(F):\n",
    "    new_F = F.copy()\n",
    "    while (True):\n",
    "        R = resolve(new_F)\n",
    "        if R == -1:\n",
    "           if set() in new_F:\n",
    "               return False\n",
    "           else:\n",
    "               return True\n",
    "        else:\n",
    "            new_F.append(R)"
   ]
  },
  {
   "cell_type": "code",
   "execution_count": 40,
   "metadata": {},
   "outputs": [
    {
     "data": {
      "text/plain": [
       "True"
      ]
     },
     "execution_count": 40,
     "metadata": {},
     "output_type": "execute_result"
    }
   ],
   "source": [
    "F2 = [{-5, 2}, {1, 5}, {-3, 4}, {-4, -2}, {3, 4}]\n",
    "\n",
    "is_satisfiable(F2)"
   ]
  },
  {
   "cell_type": "code",
   "execution_count": 41,
   "metadata": {},
   "outputs": [
    {
     "data": {
      "text/plain": [
       "False"
      ]
     },
     "execution_count": 41,
     "metadata": {},
     "output_type": "execute_result"
    }
   ],
   "source": [
    "F3 = [{-5, 2}, {1, 5}, {-3, 4}, {-4, -2}, {3, 4}, {2, -4}]\n",
    "\n",
    "is_satisfiable(F3)"
   ]
  }
 ],
 "metadata": {
  "kernelspec": {
   "display_name": "ilyascoding",
   "language": "python",
   "name": "python3"
  },
  "language_info": {
   "codemirror_mode": {
    "name": "ipython",
    "version": 3
   },
   "file_extension": ".py",
   "mimetype": "text/x-python",
   "name": "python",
   "nbconvert_exporter": "python",
   "pygments_lexer": "ipython3",
   "version": "3.10.4"
  }
 },
 "nbformat": 4,
 "nbformat_minor": 2
}
