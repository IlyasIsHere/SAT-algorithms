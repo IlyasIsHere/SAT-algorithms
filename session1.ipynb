{
 "cells": [
  {
   "cell_type": "markdown",
   "metadata": {},
   "source": [
    "## Exercise 1\n"
   ]
  },
  {
   "cell_type": "code",
   "execution_count": 2,
   "metadata": {},
   "outputs": [],
   "source": [
    "def neg(A):\n",
    "    return False if A else True\n",
    "\n",
    "\n",
    "def conj(A, B):\n",
    "    if A:\n",
    "        if B:\n",
    "            return True\n",
    "    return False\n",
    "\n",
    "\n",
    "def dij(A, B):\n",
    "    if A:\n",
    "        return True\n",
    "    if B:\n",
    "        return True\n",
    "\n",
    "    return False\n",
    "\n",
    "\n",
    "def impl(A, B):\n",
    "    if A:\n",
    "        if B:\n",
    "            return True\n",
    "        else:\n",
    "            return False\n",
    "\n",
    "    return True"
   ]
  },
  {
   "cell_type": "markdown",
   "metadata": {},
   "source": [
    "## Exercise 2"
   ]
  },
  {
   "cell_type": "code",
   "execution_count": 3,
   "metadata": {},
   "outputs": [],
   "source": [
    "def f(L):\n",
    "    A, B, C = L\n",
    "    term1 = conj(dij(A, B), impl(A, B))\n",
    "    term2 = conj(impl(conj(B, C), neg(A)), C)\n",
    "    return conj(term1, term2)"
   ]
  },
  {
   "cell_type": "markdown",
   "metadata": {},
   "source": [
    "## Exercise 3"
   ]
  },
  {
   "cell_type": "code",
   "execution_count": 9,
   "metadata": {},
   "outputs": [],
   "source": [
    "def get_all_combinations(n):\n",
    "    if n == 1:\n",
    "        return [[0], [1]]\n",
    "\n",
    "    combs = get_all_combinations(n-1)\n",
    "    new_combs = []\n",
    "    for comb in combs:\n",
    "        new_combs.append(comb + [0])\n",
    "        new_combs.append(comb + [1])\n",
    "\n",
    "    return new_combs\n",
    "\n",
    "\n",
    "def bruteforce(n):\n",
    "    for comb in get_all_combinations(n):\n",
    "        if f(comb):\n",
    "            print(comb)"
   ]
  },
  {
   "cell_type": "code",
   "execution_count": 10,
   "metadata": {},
   "outputs": [
    {
     "name": "stdout",
     "output_type": "stream",
     "text": [
      "[0, 1, 1]\n"
     ]
    }
   ],
   "source": [
    "bruteforce(3)"
   ]
  },
  {
   "cell_type": "code",
   "execution_count": 25,
   "metadata": {},
   "outputs": [],
   "source": [
    "def bruteforce(n):\n",
    "  \n",
    "    def recursive_func(idx=0, comb=[0]*n):\n",
    "        print(comb)\n",
    "        \n",
    "        if idx == n:\n",
    "            return\n",
    "        \n",
    "\n",
    "        # new_comb1 = comb[:]\n",
    "        # new_comb1[idx] = 0\n",
    "        # recursive_func(idx + 1, new_comb1)\n",
    "\n",
    "        new_comb2 = comb[:]\n",
    "        new_comb2[idx] = 1\n",
    "        recursive_func(idx + 1, new_comb2)\n",
    "\n",
    "    recursive_func()"
   ]
  },
  {
   "cell_type": "code",
   "execution_count": 26,
   "metadata": {},
   "outputs": [
    {
     "name": "stdout",
     "output_type": "stream",
     "text": [
      "[0, 0, 0]\n",
      "[1, 0, 0]\n",
      "[1, 1, 0]\n",
      "[1, 1, 1]\n"
     ]
    }
   ],
   "source": [
    "bruteforce(3)"
   ]
  },
  {
   "cell_type": "markdown",
   "metadata": {},
   "source": [
    "## Exercise 4"
   ]
  },
  {
   "cell_type": "code",
   "execution_count": 11,
   "metadata": {},
   "outputs": [],
   "source": [
    "def f(L):\n",
    "    if L == [0, 1, 1, 0, 0]:\n",
    "        return True\n",
    "    if L == [1, 0, 1, 0, 1]:\n",
    "        return True\n",
    "    if L == [0, 0, 1, 1, 0]:\n",
    "        return True"
   ]
  },
  {
   "cell_type": "code",
   "execution_count": 12,
   "metadata": {},
   "outputs": [
    {
     "name": "stdout",
     "output_type": "stream",
     "text": [
      "[0, 0, 1, 1, 0]\n",
      "[0, 1, 1, 0, 0]\n",
      "[1, 0, 1, 0, 1]\n"
     ]
    }
   ],
   "source": [
    "bruteforce(5)"
   ]
  },
  {
   "cell_type": "code",
   "execution_count": null,
   "metadata": {},
   "outputs": [],
   "source": []
  }
 ],
 "metadata": {
  "kernelspec": {
   "display_name": "ilyascoding",
   "language": "python",
   "name": "python3"
  },
  "language_info": {
   "codemirror_mode": {
    "name": "ipython",
    "version": 3
   },
   "file_extension": ".py",
   "mimetype": "text/x-python",
   "name": "python",
   "nbconvert_exporter": "python",
   "pygments_lexer": "ipython3",
   "version": "3.10.4"
  }
 },
 "nbformat": 4,
 "nbformat_minor": 2
}
