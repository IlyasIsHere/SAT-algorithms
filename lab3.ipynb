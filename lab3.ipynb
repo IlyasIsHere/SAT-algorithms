{
 "cells": [
  {
   "cell_type": "markdown",
   "metadata": {},
   "source": [
    "## Automatic Algebra"
   ]
  },
  {
   "cell_type": "code",
   "execution_count": 3,
   "metadata": {},
   "outputs": [],
   "source": [
    "# Question 2 (Describing the tree of F)\n",
    "# F = not [A and not(B or not(c))]\n",
    "\n",
    "tree = {'value': 'not', 'children': \n",
    "                          [\n",
    "                            {'value': 'and', \n",
    "                             'children': [\n",
    "                                          {'value': 'A', 'children': []},\n",
    "                                          {'value': 'not',\n",
    "                                           'children': [\n",
    "                                             {'value': 'or',\n",
    "                                              'children': [\n",
    "                                                {'value': 'B', 'children': []},\n",
    "                                                {'value': 'not',\n",
    "                                                 'children':\n",
    "                                                    [\n",
    "                                                      {'value': 'C', 'children': []}\n",
    "                                                    ]}\n",
    "                                              ]}\n",
    "                                           ]}\n",
    "                                          ]}\n",
    "                          ]}"
   ]
  },
  {
   "cell_type": "code",
   "execution_count": 4,
   "metadata": {},
   "outputs": [],
   "source": [
    "# Question 3: Writing the function inwards(F) that pushes negations inwards\n",
    "\n",
    "def inwards_recursive(F):\n",
    "    if F['value'] == 'not':\n",
    "        if len(F['children']) == 1:\n",
    "            child = F['children'][0]\n",
    "\n",
    "            if child['value'] == 'or' or child['value'] == 'and':\n",
    "                if child['value'] == 'or':\n",
    "                    F['value'] = 'and'\n",
    "                elif child['value'] == 'and':\n",
    "                    F['value'] = 'or'\n",
    "\n",
    "                F['children'] = [\n",
    "                    {'value': 'not', 'children': [child['children'][0]]},\n",
    "                    {'value': 'not', 'children': [child['children'][1]]}\n",
    "                ]\n",
    "\n",
    "            # Simplifying not(not(A)) = A\n",
    "            elif child['value'] == 'not':\n",
    "                F['value'] = child['children'][0]['value']\n",
    "                F['children'] = child['children'][0]['children']\n",
    "\n",
    "                # Call recursively again\n",
    "                inwards_recursive(F)\n",
    "                return\n",
    "\n",
    "        else:\n",
    "            raise AssertionError('There is an error in the formula')\n",
    "        \n",
    "    # Call recursively for the two branches\n",
    "    if len(F['children']) == 1:\n",
    "        inwards_recursive(F['children'][0])\n",
    "    elif len(F['children']) == 2:\n",
    "        inwards_recursive(F['children'][0])\n",
    "        inwards_recursive(F['children'][1])\n",
    "\n",
    "\n",
    "def inwards(F):\n",
    "    F_copy = F.copy()\n",
    "    inwards_recursive(F_copy)\n",
    "    return F_copy\n",
    "        \n",
    "        \n"
   ]
  },
  {
   "cell_type": "code",
   "execution_count": 5,
   "metadata": {},
   "outputs": [
    {
     "data": {
      "text/plain": [
       "{'value': 'or',\n",
       " 'children': [{'value': 'not', 'children': [{'value': 'A', 'children': []}]},\n",
       "  {'value': 'or',\n",
       "   'children': [{'value': 'B', 'children': []},\n",
       "    {'value': 'not', 'children': [{'value': 'C', 'children': []}]}]}]}"
      ]
     },
     "execution_count": 5,
     "metadata": {},
     "output_type": "execute_result"
    }
   ],
   "source": [
    "inwards(tree)"
   ]
  },
  {
   "cell_type": "code",
   "execution_count": 6,
   "metadata": {},
   "outputs": [
    {
     "data": {
      "text/plain": [
       "{'value': 'not', 'children': [{'value': 'B', 'children': []}]}"
      ]
     },
     "execution_count": 6,
     "metadata": {},
     "output_type": "execute_result"
    }
   ],
   "source": [
    "F2 = {'value': 'not',\n",
    "      'children': [\n",
    "        {'value': 'not',\n",
    "         'children': [\n",
    "           {'value': 'not',\n",
    "            'children': [\n",
    "              {'value': 'not',\n",
    "               'children': [\n",
    "                 {'value': 'not',\n",
    "                  'children': [\n",
    "                    {'value': 'B',\n",
    "                     'children': []}\n",
    "                  ]}\n",
    "               ]}\n",
    "            ]}\n",
    "         ]}\n",
    "      ]}\n",
    "\n",
    "inwards(F2)"
   ]
  },
  {
   "cell_type": "code",
   "execution_count": null,
   "metadata": {},
   "outputs": [],
   "source": []
  }
 ],
 "metadata": {
  "kernelspec": {
   "display_name": "ilyascoding",
   "language": "python",
   "name": "python3"
  },
  "language_info": {
   "codemirror_mode": {
    "name": "ipython",
    "version": 3
   },
   "file_extension": ".py",
   "mimetype": "text/x-python",
   "name": "python",
   "nbconvert_exporter": "python",
   "pygments_lexer": "ipython3",
   "version": "3.10.4"
  }
 },
 "nbformat": 4,
 "nbformat_minor": 2
}
