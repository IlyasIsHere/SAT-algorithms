{
 "cells": [
  {
   "cell_type": "code",
   "execution_count": 79,
   "metadata": {},
   "outputs": [],
   "source": [
    "def resolvent(C1, C2, common_var):\n",
    "    if (common_var in C1 and -common_var in C2) or (-common_var in C1 and common_var in C2):\n",
    "        R = C1.union(C2)\n",
    "        R.remove(common_var)\n",
    "        R.remove(-common_var)\n",
    "        return R\n",
    "    \n",
    "    return None"
   ]
  },
  {
   "cell_type": "code",
   "execution_count": 80,
   "metadata": {},
   "outputs": [],
   "source": [
    "def learning_procedure(AH, conflict_clause, clauses):\n",
    "    \"\"\"\n",
    "    :param AH: Assignment history\n",
    "    :param conflict_clause:\n",
    "    :param clauses:\n",
    "    :return: The learned clause\n",
    "    \"\"\"\n",
    "    k = len(AH)\n",
    "    X = conflict_clause\n",
    "    for i in range(k, 0, -1):\n",
    "        C_num = AH[i-1][0]\n",
    "        Q = AH[i-1][1]\n",
    "        if C_num > 0 and resolvent(set(X), set(clauses[C_num]), Q) is not None:\n",
    "            X = resolvent(set(X), set(clauses[C_num]), Q)\n",
    "\n",
    "    return X"
   ]
  },
  {
   "cell_type": "code",
   "execution_count": 81,
   "metadata": {},
   "outputs": [],
   "source": [
    "def is_clause_true(clause, vals):\n",
    "    result = 0\n",
    "    for i in clause:\n",
    "        if i > 0:\n",
    "            result = result or vals[i]\n",
    "        else:\n",
    "            result = result or not(vals[-i])\n",
    "\n",
    "    return result\n",
    "\n",
    "def is_clause_unassigned(clause, vals):\n",
    "    for Pi in clause:\n",
    "        if vals[abs(Pi)] == -1:\n",
    "            return True\n",
    "    return False"
   ]
  },
  {
   "cell_type": "code",
   "execution_count": 82,
   "metadata": {},
   "outputs": [],
   "source": [
    "# Function that returns a conflict clause if it exists\n",
    "def get_conflict_clause(vals, clauses):\n",
    "    for _, clause in clauses.items():\n",
    "        if not is_clause_unassigned(clause, vals) and not is_clause_true(clause, vals):\n",
    "            return clause\n",
    "    return None"
   ]
  },
  {
   "cell_type": "code",
   "execution_count": 83,
   "metadata": {},
   "outputs": [],
   "source": [
    "def is_unit_clause(clause, vals):\n",
    "    \"\"\"\n",
    "    Checks if a clause is a unit clause.\n",
    "    Returns (True, unassigned_literal) if it is a unit clause, (False, None) otherwise.\n",
    "    \"\"\"\n",
    "    count_unassigned = 0\n",
    "    for l in clause:\n",
    "        if vals[abs(l)] == -1:\n",
    "            count_unassigned += 1\n",
    "            unassigned_literal = l\n",
    "            if count_unassigned > 1: # This means that there is more than one unassigned variable\n",
    "                return (False, None)\n",
    "        \n",
    "        elif l > 0 and vals[abs(l)] == 1: # This means that it's a literal equal to 1\n",
    "            return (False, None)\n",
    "        \n",
    "        elif l < 0 and vals[abs(l)] == 0: # Also, this means that it's a literal equal to 1\n",
    "            return (False, None)\n",
    "        \n",
    "    if count_unassigned == 1:\n",
    "        return (True, unassigned_literal)\n",
    "    return (False, None)"
   ]
  },
  {
   "cell_type": "code",
   "execution_count": 84,
   "metadata": {},
   "outputs": [],
   "source": [
    "def unit_prop(vals, clauses: dict, AH):\n",
    "    \"\"\"Unit propagation\"\"\"\n",
    "    found = True\n",
    "    while found:\n",
    "      found = False\n",
    "      for i, clause in clauses.items():\n",
    "          is_unit, unassigned_lit = is_unit_clause(clause, vals)\n",
    "          if is_unit:\n",
    "              found = True\n",
    "              vals[abs(unassigned_lit)] = 1 if unassigned_lit > 0 else 0\n",
    "              # Adding it to the assignment history\n",
    "              AH.append((i, abs(unassigned_lit), 1 if unassigned_lit > 0 else 0))\n",
    "              "
   ]
  },
  {
   "cell_type": "code",
   "execution_count": 85,
   "metadata": {},
   "outputs": [],
   "source": [
    "def formula_is_satisfied(clauses, vals):\n",
    "    for _, clause in clauses.items():\n",
    "        if not is_clause_true(clause, vals):\n",
    "            return 0\n",
    "    return 1"
   ]
  },
  {
   "cell_type": "markdown",
   "metadata": {},
   "source": [
    "##### Assignment history representation\n",
    "Each element of the assignment history is represented as a 3-uple.\n",
    "- Its first element is either 0 (decision) or > 0 (number of a clause)\n",
    "- Its second element is the variable number\n",
    "- Its third element is the value we assigned to that variable "
   ]
  },
  {
   "cell_type": "code",
   "execution_count": 86,
   "metadata": {},
   "outputs": [],
   "source": [
    "def step4(vals, clauses, AH):\n",
    "    \"\"\"Returns 0 if UNSAT, 2 if next step is STEP 2, and 5 if next step is STEP 5\"\"\"\n",
    "    conflict_clause = get_conflict_clause(vals, clauses)\n",
    "    if conflict_clause is None:\n",
    "        # There is no conflict clause, so go to step 5\n",
    "        return 5\n",
    "    \n",
    "    learned_clause = learning_procedure(AH, conflict_clause, clauses)\n",
    "\n",
    "    # if the learned clause is empty, return UNSAT (0)\n",
    "    if (len(learned_clause) == 0):\n",
    "        return 0\n",
    "    \n",
    "    # else, add the learned clause to F\n",
    "    # TODO: should i check if the learned clause already exists?\n",
    "    clauses[len(clauses) + 1] = learned_clause\n",
    "\n",
    "    # Then, do backtracking on the learned clause\n",
    "    i = len(AH) - 1\n",
    "\n",
    "    while not is_unit_clause(learned_clause, vals)[0]:\n",
    "        var_idx = AH[i][1]\n",
    "        vals[var_idx] = -1\n",
    "        del AH[i]\n",
    "\n",
    "        i -= 1\n",
    "\n",
    "    # Then, go to step 2\n",
    "    return 2"
   ]
  },
  {
   "cell_type": "markdown",
   "metadata": {},
   "source": [
    "# Full DPLL algorithm"
   ]
  },
  {
   "cell_type": "code",
   "execution_count": 87,
   "metadata": {},
   "outputs": [],
   "source": [
    "def dpll(clauses, n_vars):\n",
    "    # Initialization\n",
    "    vals = {i: -1 for i in range(1, n_vars + 1)}\n",
    "    AH = []\n",
    "\n",
    "    while True:\n",
    "        # Unit propagation\n",
    "        unit_prop(vals, clauses, AH)\n",
    "\n",
    "        if formula_is_satisfied(clauses, vals):\n",
    "            return vals\n",
    "        \n",
    "        step4_res = step4(vals, clauses, AH)\n",
    "        if step4_res == 0:\n",
    "            return 'UNSAT'\n",
    "        elif step4_res == 2:\n",
    "            # Go to step 2:\n",
    "            continue\n",
    "        elif step4_res == 5:\n",
    "            # Decision strategy: pick the smallest i such that Pi = -1 and set Pi to 1\n",
    "            for i in range(1, n_vars + 1):\n",
    "                if vals[i] == -1:\n",
    "                    vals[i] = 1\n",
    "                    AH.append((0, i, 1))\n",
    "                    break\n",
    "            continue\n",
    "\n"
   ]
  },
  {
   "cell_type": "markdown",
   "metadata": {},
   "source": [
    "Testing\n"
   ]
  },
  {
   "cell_type": "code",
   "execution_count": 105,
   "metadata": {},
   "outputs": [
    {
     "data": {
      "text/plain": [
       "{1: 0, 2: 0, 3: 1, 4: 0, 5: 1, 6: 0}"
      ]
     },
     "execution_count": 105,
     "metadata": {},
     "output_type": "execute_result"
    }
   ],
   "source": [
    "C1 = [-1, 3]\n",
    "C2 = [-1, 4]\n",
    "C3 = [-3, -4]\n",
    "C4 = [-2, 5]\n",
    "C5 = [-2, 6]\n",
    "C6 = [-5, -6]\n",
    "\n",
    "clauses = {\n",
    "  1: C1, \n",
    "  2: C2, \n",
    "  3: C3, \n",
    "  4: C4, \n",
    "  5: C5,\n",
    "  6: C6,\n",
    "}\n",
    "\n",
    "dpll(clauses, 6)"
   ]
  },
  {
   "cell_type": "code",
   "execution_count": 104,
   "metadata": {},
   "outputs": [
    {
     "data": {
      "text/plain": [
       "'UNSAT'"
      ]
     },
     "execution_count": 104,
     "metadata": {},
     "output_type": "execute_result"
    }
   ],
   "source": [
    "C1 = [-1, 3]\n",
    "C2 = [-1, 4]\n",
    "C3 = [-3, -4]\n",
    "C4 = [-2, 5]\n",
    "C5 = [-2, 6]\n",
    "C6 = [-5, -6]\n",
    "C7 = [1]\n",
    "\n",
    "clauses = {\n",
    "  1: C1, \n",
    "  2: C2, \n",
    "  3: C3, \n",
    "  4: C4, \n",
    "  5: C5,\n",
    "  6: C6,\n",
    "  7: C7\n",
    "}\n",
    "\n",
    "dpll(clauses, 6)"
   ]
  }
 ],
 "metadata": {
  "kernelspec": {
   "display_name": "ilyascoding",
   "language": "python",
   "name": "python3"
  },
  "language_info": {
   "codemirror_mode": {
    "name": "ipython",
    "version": 3
   },
   "file_extension": ".py",
   "mimetype": "text/x-python",
   "name": "python",
   "nbconvert_exporter": "python",
   "pygments_lexer": "ipython3",
   "version": "3.10.4"
  }
 },
 "nbformat": 4,
 "nbformat_minor": 2
}
