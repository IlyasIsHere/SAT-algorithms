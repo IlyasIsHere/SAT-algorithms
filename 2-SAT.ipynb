{
 "cells": [
  {
   "cell_type": "code",
   "execution_count": 1,
   "metadata": {},
   "outputs": [],
   "source": [
    "F = {'n': 5,\n",
    "     'clauses': [\n",
    "                  [2, -5],\n",
    "                  [1, 5],\n",
    "                  [-3, 4],\n",
    "                  [-2, -4],\n",
    "                  [3, 4]\n",
    "                ]\n",
    "    }\n",
    "\n",
    "F_ = {'n': 5,\n",
    "      'clauses': F['clauses'] + [[2, -4]]}"
   ]
  },
  {
   "cell_type": "code",
   "execution_count": 2,
   "metadata": {},
   "outputs": [],
   "source": [
    "# Building the implication graph\n",
    "def build(F):\n",
    "    graph = {}\n",
    "    V = []  # The set of nodes\n",
    "    for P in range(1, F['n'] + 1):\n",
    "        V.append(P)\n",
    "        V.append(-P)\n",
    "\n",
    "    E = []  # The set of edges\n",
    "    for clause in F['clauses']: # We assume all clauses have exactly 2 literals\n",
    "        edge1 = (-clause[0], clause[1])\n",
    "        edge2 = (-clause[1], clause[0])\n",
    "        E.append(edge1)\n",
    "        E.append(edge2)\n",
    "\n",
    "    graph['V'] = V\n",
    "    graph['E'] = E\n",
    "\n",
    "    return graph"
   ]
  },
  {
   "cell_type": "code",
   "execution_count": 3,
   "metadata": {},
   "outputs": [],
   "source": [
    "# Function to check whether there is a path from A to B\n",
    "def path(graph, A, B):\n",
    "    E = graph['E']\n",
    "\n",
    "    visited = [A]\n",
    "\n",
    "    while True:\n",
    "        old_visited_length = len(visited)\n",
    "        for u, v in E:\n",
    "            if u in visited and v not in visited:\n",
    "                visited.append(v)\n",
    "\n",
    "        if B in visited:\n",
    "            return True\n",
    "\n",
    "        if old_visited_length == len(visited):\n",
    "            break\n",
    "        \n",
    "    return False"
   ]
  },
  {
   "cell_type": "code",
   "execution_count": 4,
   "metadata": {},
   "outputs": [],
   "source": [
    "# Function to check whether the graph is consistent or not\n",
    "def check_consistent(F):\n",
    "    graph = build(F)\n",
    "    for i in range(1, F['n'] + 1):\n",
    "        if path(graph, i, -i) and path(graph, -i, i):\n",
    "            return False\n",
    "    return True"
   ]
  },
  {
   "cell_type": "code",
   "execution_count": 5,
   "metadata": {},
   "outputs": [
    {
     "name": "stdout",
     "output_type": "stream",
     "text": [
      "True\n",
      "False\n"
     ]
    }
   ],
   "source": [
    "print(check_consistent(F))\n",
    "print(check_consistent(F_))"
   ]
  },
  {
   "cell_type": "code",
   "execution_count": 9,
   "metadata": {},
   "outputs": [],
   "source": [
    "def two_sat_algorithm(F):\n",
    "    n = F['n']\n",
    "    graph = build(F)\n",
    "    edges = graph['E']\n",
    "\n",
    "    if not check_consistent(F):\n",
    "        return \"The implication graph is not consistent. This formula has no solution.\"\n",
    "\n",
    "    # Initialization\n",
    "    P = {i: -1 for i in range(1, n+1)}\n",
    "\n",
    "    while True:\n",
    "        unassigned_found = False\n",
    "\n",
    "        # Picking L such that L is unassigned and there is no path from L to not(L)\n",
    "        for i in range(1, n+1):\n",
    "            if P[i] == -1:\n",
    "                unassigned_found = True\n",
    "                if not path(graph, i, -i):\n",
    "                    # We found L, so we set it to 1\n",
    "                    P[i] = 1\n",
    "                else:\n",
    "                    # In this case, we take L = - P[i]\n",
    "                    P[i] = 0\n",
    "                break\n",
    "\n",
    "        # If no unassigned variable was found, terminate\n",
    "        if not unassigned_found:\n",
    "            return P\n",
    "        \n",
    "        while True:\n",
    "            found = False\n",
    "            for L1, L2 in edges:\n",
    "                if L1 > 0 and L2 > 0:\n",
    "                    if val(L1, P) == 1 and val(L2, P) == -1:\n",
    "                        found = True\n",
    "                        # Set L2 to 1\n",
    "                        P[abs(L2)] = 1 if L2 > 0 else 0\n",
    "\n",
    "            if not found:\n",
    "                # There is no edge 1 => -1 remaining\n",
    "                break\n",
    "\n",
    "\n",
    "def val(L, P):\n",
    "    if L > 0:\n",
    "        return P[L]\n",
    "    else:\n",
    "        return not(P[-L])"
   ]
  },
  {
   "cell_type": "code",
   "execution_count": 10,
   "metadata": {},
   "outputs": [
    {
     "data": {
      "text/plain": [
       "{1: 1, 2: 0, 3: 1, 4: 1, 5: 0}"
      ]
     },
     "execution_count": 10,
     "metadata": {},
     "output_type": "execute_result"
    }
   ],
   "source": [
    "two_sat_algorithm(F)"
   ]
  },
  {
   "cell_type": "code",
   "execution_count": 8,
   "metadata": {},
   "outputs": [
    {
     "data": {
      "text/plain": [
       "'The implication graph is not consistent. This formula has no solution.'"
      ]
     },
     "execution_count": 8,
     "metadata": {},
     "output_type": "execute_result"
    }
   ],
   "source": [
    "two_sat_algorithm(F_)"
   ]
  }
 ],
 "metadata": {
  "kernelspec": {
   "display_name": "ilyascoding",
   "language": "python",
   "name": "python3"
  },
  "language_info": {
   "codemirror_mode": {
    "name": "ipython",
    "version": 3
   },
   "file_extension": ".py",
   "mimetype": "text/x-python",
   "name": "python",
   "nbconvert_exporter": "python",
   "pygments_lexer": "ipython3",
   "version": "3.10.4"
  }
 },
 "nbformat": 4,
 "nbformat_minor": 2
}
