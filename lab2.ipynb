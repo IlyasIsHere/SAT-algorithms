{
 "cells": [
  {
   "cell_type": "code",
   "execution_count": 1,
   "metadata": {},
   "outputs": [],
   "source": [
    "V = [1, 2, 3, 4, 5]\n",
    "E = [[1, 2], [1, 4], [2, 3], [4, 5], [3, 5], [2, 4]]"
   ]
  },
  {
   "cell_type": "code",
   "execution_count": 12,
   "metadata": {},
   "outputs": [],
   "source": [
    "P = {}\n",
    "P[1] = {1: 1, 2: 0, 3: 0}\n",
    "P[2] = {1: 0, 2: 1, 3: 0}\n",
    "P[3] = {1: 1, 2: 0, 3: 0}\n",
    "P[4] = {1: 0, 2: 0, 3: 1}\n",
    "P[5] = {1: 0, 2: 1, 3: 0}"
   ]
  },
  {
   "cell_type": "code",
   "execution_count": 14,
   "metadata": {},
   "outputs": [],
   "source": [
    "def check(P, V, E):\n",
    "    # C1 is the condition that two adjacent vertices should not have the same color\n",
    "    c1 = True\n",
    "    for u, v in E:\n",
    "        inner_cond1 = True\n",
    "        for x in P[u]: # We can also use \"for x in P[v]\"\n",
    "            inner_cond1 = inner_cond1 and not (P[u][x] and P[v][x])\n",
    "\n",
    "        c1 = c1 and inner_cond1\n",
    "\n",
    "    # C2 is the condition that every vertex has at least one color\n",
    "    c2 = True\n",
    "    for v in V:\n",
    "        inner_cond2 = False\n",
    "        for x in P[v]:\n",
    "            inner_cond2 = inner_cond2 or P[v][x]\n",
    "\n",
    "        c2 = c2 and inner_cond2\n",
    "\n",
    "    # C3 is the condition that every vertex has at most one color\n",
    "    c3 = True\n",
    "    for v in V:\n",
    "        inner_cond3 = True\n",
    "        for x in P[v]:\n",
    "            for y in P[v]:\n",
    "                if x != y:\n",
    "                    inner_cond3 = inner_cond3 and not (P[v][x] and P[v][y])\n",
    "        \n",
    "        c3 = c3 and inner_cond3\n",
    "\n",
    "    return c1 and c2 and c3"
   ]
  },
  {
   "cell_type": "code",
   "execution_count": 11,
   "metadata": {},
   "outputs": [
    {
     "data": {
      "text/plain": [
       "False"
      ]
     },
     "execution_count": 11,
     "metadata": {},
     "output_type": "execute_result"
    }
   ],
   "source": [
    "check(P, V, E)"
   ]
  },
  {
   "cell_type": "markdown",
   "metadata": {},
   "source": [
    "### Testing for another coloring"
   ]
  },
  {
   "cell_type": "code",
   "execution_count": 15,
   "metadata": {},
   "outputs": [
    {
     "data": {
      "text/plain": [
       "False"
      ]
     },
     "execution_count": 15,
     "metadata": {},
     "output_type": "execute_result"
    }
   ],
   "source": [
    "P = {}\n",
    "P[1] = {1: 0, 2: 1, 3: 0}\n",
    "P[2] = {1: 0, 2: 1, 3: 0}\n",
    "P[3] = {1: 1, 2: 0, 3: 0}\n",
    "P[4] = {1: 0, 2: 0, 3: 1}\n",
    "P[5] = {1: 0, 2: 1, 3: 0}\n",
    "\n",
    "check(P, V, E)"
   ]
  },
  {
   "cell_type": "markdown",
   "metadata": {},
   "source": [
    "### Testing for another graph"
   ]
  },
  {
   "cell_type": "code",
   "execution_count": 18,
   "metadata": {},
   "outputs": [
    {
     "data": {
      "text/plain": [
       "True"
      ]
     },
     "execution_count": 18,
     "metadata": {},
     "output_type": "execute_result"
    }
   ],
   "source": [
    "V2 = [1, 2, 3, 4, 5, 6]\n",
    "E2 = [[1, 4], [3, 5], [6, 1], [3, 6], [2, 4]]\n",
    "P2 = {}\n",
    "P2[1] = {1: 1, 2: 0}\n",
    "P2[2] = {1: 1, 2: 0}\n",
    "P2[3] = {1: 1, 2: 0}\n",
    "P2[4] = {1: 0, 2: 1}\n",
    "P2[5] = {1: 0, 2: 1}\n",
    "P2[6] = {1: 0, 2: 1}\n",
    "\n",
    "check(P2, V2, E2)"
   ]
  },
  {
   "cell_type": "code",
   "execution_count": null,
   "metadata": {},
   "outputs": [],
   "source": []
  }
 ],
 "metadata": {
  "kernelspec": {
   "display_name": "ilyascoding",
   "language": "python",
   "name": "python3"
  },
  "language_info": {
   "codemirror_mode": {
    "name": "ipython",
    "version": 3
   },
   "file_extension": ".py",
   "mimetype": "text/x-python",
   "name": "python",
   "nbconvert_exporter": "python",
   "pygments_lexer": "ipython3",
   "version": "3.10.4"
  }
 },
 "nbformat": 4,
 "nbformat_minor": 2
}
