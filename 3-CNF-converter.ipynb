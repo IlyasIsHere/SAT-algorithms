{
 "cells": [
  {
   "cell_type": "code",
   "execution_count": 4,
   "metadata": {},
   "outputs": [],
   "source": [
    "# Formula tree\n",
    "\n",
    "V = [i for i in range(1, 11)]\n",
    "L = dict()\n",
    "L[1] = 'F'\n",
    "L[2]= 'disj'\n",
    "L[3] = 'neg'\n",
    "L[4] = 'conj'\n",
    "L[5] = 'conj'\n",
    "L[6] = 2\n",
    "L[7] = 'neg'\n",
    "L[8] = 1\n",
    "L[9] = 3\n",
    "L[10] = 4\n",
    "\n",
    "E = [(1, 2), (2, 3), (2, 4), (3, 5), (4, 6), (4, 7), (5, 8), (5, 9), (7, 10)]\n",
    "n = 4   # Number of initial variables"
   ]
  },
  {
   "cell_type": "code",
   "execution_count": 14,
   "metadata": {},
   "outputs": [],
   "source": [
    "counter_variables = n\n",
    "\n",
    "map_var_to_node = dict()\n",
    "clauses = []\n",
    "\n",
    "# Adding new variables for non-leaf nodes\n",
    "for node in V:\n",
    "    if type(L[node]) != int and node != 'F':\n",
    "        counter_variables += 1\n",
    "        map_var_to_node[counter_variables] = node\n",
    "      \n",
    "for i in range(n+1, counter_variables+1):\n",
    "    \n",
    "    \n",
    "# TODO"
   ]
  },
  {
   "cell_type": "code",
   "execution_count": 15,
   "metadata": {},
   "outputs": [
    {
     "data": {
      "text/plain": [
       "{5: 1, 6: 2, 7: 3, 8: 4, 9: 5, 10: 7}"
      ]
     },
     "execution_count": 15,
     "metadata": {},
     "output_type": "execute_result"
    }
   ],
   "source": []
  }
 ],
 "metadata": {
  "kernelspec": {
   "display_name": "ilyascoding",
   "language": "python",
   "name": "python3"
  },
  "language_info": {
   "codemirror_mode": {
    "name": "ipython",
    "version": 3
   },
   "file_extension": ".py",
   "mimetype": "text/x-python",
   "name": "python",
   "nbconvert_exporter": "python",
   "pygments_lexer": "ipython3",
   "version": "3.10.4"
  }
 },
 "nbformat": 4,
 "nbformat_minor": 2
}
