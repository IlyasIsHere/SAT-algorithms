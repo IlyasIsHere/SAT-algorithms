{
 "cells": [
  {
   "cell_type": "code",
   "execution_count": 1,
   "metadata": {},
   "outputs": [],
   "source": [
    "C1 = [1, -2, 5]\n",
    "C2 = [-6, 7, -8]\n",
    "C3 = [2, -3]\n",
    "C4 = [-4, -5]\n",
    "C5 = [4, -3, 6]\n",
    "clauses = [C1, C2, C3, C4, C5]\n",
    "\n",
    "P = {i: -1 for i in range(1, 9)}\n",
    "P[1] = 0\n",
    "P[3] = 1"
   ]
  },
  {
   "cell_type": "code",
   "execution_count": 4,
   "metadata": {},
   "outputs": [],
   "source": [
    "def is_unit_clause(clause, P):\n",
    "    count_unassigned = 0\n",
    "    for l in clause:\n",
    "        if P[abs(l)] == -1:\n",
    "            count_unassigned += 1\n",
    "            unassigned_literal = l\n",
    "            if count_unassigned > 1: # This means that there is more than one unassigned variable\n",
    "                return (False, None)\n",
    "        \n",
    "        elif l > 0 and P[abs(l)] == 1: # This means that it's a literal equal to 1\n",
    "            return (False, None)\n",
    "        \n",
    "        elif l < 0 and P[abs(l)] == 0: # Also, this means that it's a literal equal to 1\n",
    "            return (False, None)\n",
    "        \n",
    "    if count_unassigned == 1:\n",
    "        return (True, unassigned_literal)\n",
    "    return (False, None)\n",
    "            \n",
    "\n",
    "def unit_prop(P_init, clauses):\n",
    "    P_new = P_init.copy()\n",
    "\n",
    "    found = True\n",
    "    while found:\n",
    "      found = False\n",
    "      for clause in clauses:\n",
    "          print(clause)\n",
    "          is_unit, unassigned_lit = is_unit_clause(clause, P_new)\n",
    "          if is_unit:\n",
    "              found = True\n",
    "              P_new[abs(unassigned_lit)] = 1 if unassigned_lit > 0 else 0\n",
    "\n",
    "    return P_new\n",
    "        "
   ]
  },
  {
   "cell_type": "code",
   "execution_count": 5,
   "metadata": {},
   "outputs": [
    {
     "name": "stdout",
     "output_type": "stream",
     "text": [
      "[1, -2, 5]\n",
      "[-6, 7, -8]\n",
      "[2, -3]\n",
      "[-4, -5]\n",
      "[4, -3, 6]\n",
      "[1, -2, 5]\n",
      "[-6, 7, -8]\n",
      "[2, -3]\n",
      "[-4, -5]\n",
      "[4, -3, 6]\n",
      "[1, -2, 5]\n",
      "[-6, 7, -8]\n",
      "[2, -3]\n",
      "[-4, -5]\n",
      "[4, -3, 6]\n"
     ]
    },
    {
     "data": {
      "text/plain": [
       "{1: 0, 2: 1, 3: 1, 4: 0, 5: 1, 6: 1, 7: -1, 8: -1}"
      ]
     },
     "execution_count": 5,
     "metadata": {},
     "output_type": "execute_result"
    }
   ],
   "source": [
    "unit_prop(P, clauses)"
   ]
  }
 ],
 "metadata": {
  "kernelspec": {
   "display_name": "ilyascoding",
   "language": "python",
   "name": "python3"
  },
  "language_info": {
   "codemirror_mode": {
    "name": "ipython",
    "version": 3
   },
   "file_extension": ".py",
   "mimetype": "text/x-python",
   "name": "python",
   "nbconvert_exporter": "python",
   "pygments_lexer": "ipython3",
   "version": "3.10.4"
  }
 },
 "nbformat": 4,
 "nbformat_minor": 2
}
