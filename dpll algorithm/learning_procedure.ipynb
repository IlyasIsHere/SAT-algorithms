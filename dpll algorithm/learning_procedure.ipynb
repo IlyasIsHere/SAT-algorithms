{
 "cells": [
  {
   "cell_type": "code",
   "execution_count": 107,
   "metadata": {},
   "outputs": [],
   "source": [
    "C1 = [-1, -4, 5]\n",
    "C2 = [-1, 6, -5]\n",
    "C3 = [-1, -6, 7]\n",
    "C4 = [-1, -7, -5]\n",
    "C5 = [1, 4, 6]\n",
    "\n",
    "clauses = {\n",
    "  1: C1, \n",
    "  2: C2, \n",
    "  3: C3, \n",
    "  4: C4, \n",
    "  5: C5\n",
    "}"
   ]
  },
  {
   "cell_type": "code",
   "execution_count": 108,
   "metadata": {},
   "outputs": [],
   "source": [
    "# Each element of the assignment history is represented as a 3-uple.\n",
    "#   - Its first element is either 0 (decision) or > 0 (number of a clause)\n",
    "#   - Its second element is the variable number\n",
    "#   - Its third element is the value we assigned to that variable \n",
    "\n",
    "\n",
    "assignment_history = [\n",
    "  (0, 1, 1),\n",
    "  (0, 2, 0),\n",
    "  (0, 3, 0),\n",
    "  (0, 4, 1),\n",
    "  (1, 5, 1),\n",
    "  (2, 6, 1),\n",
    "  (3, 7, 1)\n",
    "]"
   ]
  },
  {
   "cell_type": "code",
   "execution_count": 109,
   "metadata": {},
   "outputs": [],
   "source": [
    "def resolvent(C1, C2, common_var):\n",
    "    if (common_var in C1 and -common_var in C2) or (-common_var in C1 and common_var in C2):\n",
    "        R = C1.union(C2)\n",
    "        R.remove(common_var)\n",
    "        R.remove(-common_var)\n",
    "        return R\n",
    "    \n",
    "    return None"
   ]
  },
  {
   "cell_type": "code",
   "execution_count": 110,
   "metadata": {},
   "outputs": [],
   "source": [
    "def learning_procedure(AH, conflict_clause, clauses):\n",
    "    k = len(AH)\n",
    "    X = conflict_clause\n",
    "    for i in range(k, 0, -1):\n",
    "        C_num = AH[i-1][0]\n",
    "        Q = AH[i-1][1]\n",
    "        if C_num > 0 and resolvent(set(X), set(clauses[C_num]), Q) is not None:\n",
    "            X = resolvent(set(X), set(clauses[C_num]), Q)\n",
    "\n",
    "    return X"
   ]
  },
  {
   "cell_type": "code",
   "execution_count": 111,
   "metadata": {},
   "outputs": [
    {
     "data": {
      "text/plain": [
       "{-4, -1}"
      ]
     },
     "execution_count": 111,
     "metadata": {},
     "output_type": "execute_result"
    }
   ],
   "source": [
    "learning_procedure(assignment_history, clauses[4], clauses)"
   ]
  },
  {
   "cell_type": "markdown",
   "metadata": {},
   "source": [
    "### Backtracking\n"
   ]
  },
  {
   "cell_type": "code",
   "execution_count": 112,
   "metadata": {},
   "outputs": [],
   "source": [
    "# Assigning values to variables\n",
    "vals = {\n",
    "    1: 1,\n",
    "    2: 0,\n",
    "    3: 0,\n",
    "    4: 1,\n",
    "    5: 1,\n",
    "    6: 1,\n",
    "    7: 1\n",
    "}"
   ]
  },
  {
   "cell_type": "code",
   "execution_count": 113,
   "metadata": {},
   "outputs": [],
   "source": [
    "def is_clause_true(clause, vals):\n",
    "    result = 0\n",
    "    for i in clause:\n",
    "        if i > 0:\n",
    "            result = result or vals[i]\n",
    "        else:\n",
    "            result = result or not(vals[-i])\n",
    "\n",
    "    return result\n",
    "\n",
    "\n",
    "# Function that returns a conflict clause if it exists\n",
    "def get_conflict_clause(vals, clauses):\n",
    "    for _, clause in clauses.items():\n",
    "        if not is_clause_true(clause, vals):\n",
    "            return clause\n",
    "    return None\n",
    "    \n",
    "\n",
    "# Function that checks whether a clause in a unit clause. \n",
    "# If so, it returns the unassigned literal in the clause.\n",
    "def is_unit_clause(clause, P):\n",
    "    count_unassigned = 0\n",
    "    for l in clause:\n",
    "        if P[abs(l)] == -1:\n",
    "            count_unassigned += 1\n",
    "            unassigned_literal = l\n",
    "            if count_unassigned > 1: # This means that there is more than one unassigned variable\n",
    "                return (False, None)\n",
    "        \n",
    "        elif l > 0 and P[abs(l)] == 1: # This means that it's a literal equal to 1\n",
    "            return (False, None)\n",
    "        \n",
    "        elif l < 0 and P[abs(l)] == 0: # Also, this means that it's a literal equal to 1\n",
    "            return (False, None)\n",
    "        \n",
    "    if count_unassigned == 1:\n",
    "        return (True, unassigned_literal)\n",
    "    return (False, None)"
   ]
  },
  {
   "cell_type": "code",
   "execution_count": 114,
   "metadata": {},
   "outputs": [],
   "source": [
    "\n",
    "\"\"\"Returns 0 if UNSAT, 2 if next step is STEP 2, and 5 if next step is STEP 5\"\"\"\n",
    "def step4(vals, clauses, AH):\n",
    "    conflict_clause = get_conflict_clause(vals, clauses)\n",
    "    if conflict_clause is None:\n",
    "        # There is no conflict clause, so go to step 5\n",
    "        return 5\n",
    "    \n",
    "    learned_clause = learning_procedure(AH, conflict_clause, clauses)\n",
    "\n",
    "    # if the learned clause is empty, return UNSAT (0)\n",
    "    if (len(learned_clause) == 0):\n",
    "        return 0\n",
    "    \n",
    "    # else, add the learned clause to F\n",
    "    # TODO: should i check if the learned clause already exists?\n",
    "    clauses[len(clauses) + 1] = learned_clause\n",
    "\n",
    "    # Then, do backtracking on the learned clause\n",
    "    i = len(AH) - 1\n",
    "\n",
    "    while not is_unit_clause(learned_clause, vals)[0]:\n",
    "        var_idx = AH[i][1]\n",
    "        vals[var_idx] = -1\n",
    "        del AH[i]\n",
    "\n",
    "        i -= 1\n",
    "\n",
    "    # Then, go to step 2\n",
    "    return 2\n",
    "\n",
    "        \n"
   ]
  },
  {
   "cell_type": "code",
   "execution_count": 115,
   "metadata": {},
   "outputs": [
    {
     "data": {
      "text/plain": [
       "2"
      ]
     },
     "execution_count": 115,
     "metadata": {},
     "output_type": "execute_result"
    }
   ],
   "source": [
    "step4(vals, clauses, assignment_history)"
   ]
  },
  {
   "cell_type": "code",
   "execution_count": 116,
   "metadata": {},
   "outputs": [
    {
     "data": {
      "text/plain": [
       "[(0, 1, 1), (0, 2, 0), (0, 3, 0)]"
      ]
     },
     "execution_count": 116,
     "metadata": {},
     "output_type": "execute_result"
    }
   ],
   "source": [
    "assignment_history"
   ]
  },
  {
   "cell_type": "code",
   "execution_count": 117,
   "metadata": {},
   "outputs": [
    {
     "data": {
      "text/plain": [
       "{1: [-1, -4, 5],\n",
       " 2: [-1, 6, -5],\n",
       " 3: [-1, -6, 7],\n",
       " 4: [-1, -7, -5],\n",
       " 5: [1, 4, 6],\n",
       " 6: {-4, -1}}"
      ]
     },
     "execution_count": 117,
     "metadata": {},
     "output_type": "execute_result"
    }
   ],
   "source": [
    "clauses"
   ]
  },
  {
   "cell_type": "code",
   "execution_count": 118,
   "metadata": {},
   "outputs": [
    {
     "data": {
      "text/plain": [
       "{1: 1, 2: 0, 3: 0, 4: -1, 5: -1, 6: -1, 7: -1}"
      ]
     },
     "execution_count": 118,
     "metadata": {},
     "output_type": "execute_result"
    }
   ],
   "source": [
    "vals"
   ]
  }
 ],
 "metadata": {
  "kernelspec": {
   "display_name": "ilyascoding",
   "language": "python",
   "name": "python3"
  },
  "language_info": {
   "codemirror_mode": {
    "name": "ipython",
    "version": 3
   },
   "file_extension": ".py",
   "mimetype": "text/x-python",
   "name": "python",
   "nbconvert_exporter": "python",
   "pygments_lexer": "ipython3",
   "version": "3.10.4"
  }
 },
 "nbformat": 4,
 "nbformat_minor": 2
}
