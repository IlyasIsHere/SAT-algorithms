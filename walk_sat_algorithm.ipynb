{
 "cells": [
  {
   "cell_type": "code",
   "execution_count": 82,
   "metadata": {},
   "outputs": [],
   "source": [
    "F = {'n': 5,\n",
    "     'clauses': [\n",
    "                  [2, -5],\n",
    "                  [1, 5],\n",
    "                  [-3, 4],\n",
    "                  [-2, -4],\n",
    "                  [3, 4]\n",
    "                ]\n",
    "    }\n",
    "\n",
    "F_ = {'n': 5,\n",
    "      'clauses': F['clauses'] + [[2, -4]]}"
   ]
  },
  {
   "cell_type": "code",
   "execution_count": 5,
   "metadata": {},
   "outputs": [],
   "source": [
    "def evaluate_clause(clause, P):\n",
    "    value1 = P[clause[0]] if clause[0] > 0 else not(P[-clause[0]])\n",
    "    value2 = P[clause[1]] if clause[1] > 0 else not(P[-clause[1]])\n",
    "    return value1 or value2\n",
    "\n",
    "def evaluate_formula(F, P):\n",
    "    clauses = F['clauses']\n",
    "    res = True\n",
    "    for clause in clauses:\n",
    "        res = res and evaluate_clause(clause, P)\n",
    "\n",
    "    return res"
   ]
  },
  {
   "cell_type": "code",
   "execution_count": 11,
   "metadata": {},
   "outputs": [
    {
     "data": {
      "text/plain": [
       "1"
      ]
     },
     "execution_count": 11,
     "metadata": {},
     "output_type": "execute_result"
    }
   ],
   "source": [
    "evaluate_formula(F, {1: 1, 2: 0, 3: 1, 4: 1, 5: 0})"
   ]
  },
  {
   "cell_type": "code",
   "execution_count": 101,
   "metadata": {},
   "outputs": [],
   "source": [
    "import random\n",
    "\n",
    "def walk_sat(F, m: int):\n",
    "    n = F['n']\n",
    "    clauses = F['clauses']\n",
    "    P = {i: 0 for i in range(1, n+1)}\n",
    "    c = 0\n",
    "\n",
    "    while c < 2 * m * n*n:\n",
    "        for clause in clauses:\n",
    "            if evaluate_clause(clause, P) == 0:\n",
    "                picked = abs(random.choice(clause))\n",
    "                P[picked] = int(not(P[picked]))    # Swapping the value of the picked literal\n",
    "                break\n",
    "        else: # i.e. if no unsatisfied clause was found (F == 1)\n",
    "            break\n",
    "\n",
    "        c += 1\n",
    "\n",
    "    if evaluate_formula(F, P):\n",
    "        return P\n",
    "    else:\n",
    "        print(\"No solution\")\n",
    "    \n",
    "        "
   ]
  },
  {
   "cell_type": "code",
   "execution_count": 129,
   "metadata": {},
   "outputs": [
    {
     "data": {
      "text/plain": [
       "{1: 1, 2: 0, 3: 0, 4: 1, 5: 0}"
      ]
     },
     "execution_count": 129,
     "metadata": {},
     "output_type": "execute_result"
    }
   ],
   "source": [
    "walk_sat(F, 0.1)"
   ]
  },
  {
   "cell_type": "code",
   "execution_count": 130,
   "metadata": {},
   "outputs": [
    {
     "name": "stdout",
     "output_type": "stream",
     "text": [
      "No solution\n"
     ]
    }
   ],
   "source": [
    "walk_sat(F_, 10)"
   ]
  },
  {
   "cell_type": "code",
   "execution_count": 132,
   "metadata": {},
   "outputs": [],
   "source": [
    "# Calculating the expected number of iterations\n",
    "\n",
    "def num_iterations_walk_sat(F):\n",
    "    n = F['n']\n",
    "    clauses = F['clauses']\n",
    "    P = {i: 0 for i in range(1, n+1)}\n",
    "    c = 0\n",
    "\n",
    "    while c < 2 * 1000 * n*n:\n",
    "        for clause in clauses:\n",
    "            if evaluate_clause(clause, P) == 0:\n",
    "                picked = abs(random.choice(clause))\n",
    "                P[picked] = int(not(P[picked]))    # Swapping the value of the picked literal\n",
    "                break\n",
    "        else: # i.e. if no unsatisfied clause was found (F == 1)\n",
    "            break\n",
    "\n",
    "        c += 1\n",
    "\n",
    "    if evaluate_formula(F, P):\n",
    "        return c\n",
    "    else:\n",
    "        print(\"No solution\")\n",
    "\n",
    "\n",
    "def expected_num_iterations(F, num_samples):\n",
    "    mean = 0\n",
    "    for i in range(num_samples):\n",
    "        mean += num_iterations_walk_sat(F)\n",
    "\n",
    "    mean /= num_samples\n",
    "    return mean"
   ]
  },
  {
   "cell_type": "code",
   "execution_count": 150,
   "metadata": {},
   "outputs": [
    {
     "data": {
      "text/plain": [
       "10.0426"
      ]
     },
     "execution_count": 150,
     "metadata": {},
     "output_type": "execute_result"
    }
   ],
   "source": [
    "expected_num_iterations(F, 10000)"
   ]
  }
 ],
 "metadata": {
  "kernelspec": {
   "display_name": "ilyascoding",
   "language": "python",
   "name": "python3"
  },
  "language_info": {
   "codemirror_mode": {
    "name": "ipython",
    "version": 3
   },
   "file_extension": ".py",
   "mimetype": "text/x-python",
   "name": "python",
   "nbconvert_exporter": "python",
   "pygments_lexer": "ipython3",
   "version": "3.10.4"
  }
 },
 "nbformat": 4,
 "nbformat_minor": 2
}
